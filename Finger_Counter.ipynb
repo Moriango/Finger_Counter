{
 "cells": [
  {
   "cell_type": "markdown",
   "metadata": {},
   "source": [
    "<h4>Makes Jupyter Notebook Wider</h4>"
   ]
  },
  {
   "cell_type": "code",
   "execution_count": 4,
   "metadata": {},
   "outputs": [
    {
     "data": {
      "text/html": [
       "<style>.container { width:100% !important; }</style>"
      ],
      "text/plain": [
       "<IPython.core.display.HTML object>"
      ]
     },
     "metadata": {},
     "output_type": "display_data"
    }
   ],
   "source": [
    "from IPython.core.display import display, HTML\n",
    "display(HTML(\"<style>.container { width:100% !important; }</style>\"))"
   ]
  },
  {
   "cell_type": "markdown",
   "metadata": {},
   "source": [
    "<h1>Imports</h1>"
   ]
  },
  {
   "cell_type": "code",
   "execution_count": 5,
   "metadata": {},
   "outputs": [],
   "source": [
    "import cv2\n",
    "import numpy as np\n",
    "\n",
    "from sklearn.metrics import pairwise\n",
    "\n",
    "import pdb"
   ]
  },
  {
   "cell_type": "markdown",
   "metadata": {},
   "source": [
    "<h1>Global Variables</h1>"
   ]
  },
  {
   "cell_type": "code",
   "execution_count": 6,
   "metadata": {},
   "outputs": [],
   "source": [
    "background = None\n",
    "\n",
    "accumulated_weight = 0.5\n",
    "\n",
    "top = 20\n",
    "bottom = 300\n",
    "right = 300\n",
    "left = 600"
   ]
  },
  {
   "cell_type": "markdown",
   "metadata": {},
   "source": [
    "<h1>Functions</h1>"
   ]
  },
  {
   "cell_type": "markdown",
   "metadata": {},
   "source": [
    "<h4>Find the Average</h4>\n",
    "<p>The Function calculates the weighted sum of the source image in order to distinguish the hand from the background</p>"
   ]
  },
  {
   "cell_type": "code",
   "execution_count": 7,
   "metadata": {},
   "outputs": [],
   "source": [
    "def cumulative_avg(frame, accumulated_weight):\n",
    "    \"\"\"\n",
    "    Given a frame and a previous accumulated weight, computed the weighted average of the image passed in.\n",
    "    \"\"\"\n",
    "    global background\n",
    "    #creates a new background frame for the first time\n",
    "    if background is None:\n",
    "        background = frame.copy().astype('float')\n",
    "        return None\n",
    "    #compute wieghted average, accumlate it and update background\n",
    "    cv2.accumulateWeighted(frame, background, accumulated_weight)\n"
   ]
  },
  {
   "cell_type": "markdown",
   "metadata": {},
   "source": [
    "<h4>Find your Hand</h4>\n",
    "<p>Distinguish hand from background</p>"
   ]
  },
  {
   "cell_type": "code",
   "execution_count": 8,
   "metadata": {},
   "outputs": [],
   "source": [
    "def segment(frame, thresh_min=25):\n",
    "    global background\n",
    "    \n",
    "    # Calculates the Absolute Differentce between the backgroud and the passed in frame\n",
    "    diff = cv2.absdiff(background.astype('uint8'),frame)\n",
    "    \n",
    "    # Apply a threshold to the image so we can grab the foreground\n",
    "    # We only need the threshold, so we will throw away the first item in the tuple with an underscore\n",
    "    ret, thresh = cv2.threshold(diff,thresh_min,255,cv2.THRESH_BINARY)\n",
    "    \n",
    "    #Grab the external contours form the image\n",
    "    contours, hierarchy = cv2.findContours(thresh.copy(), cv2.RETR_EXTERNAL, cv2.CHAIN_APPROX_SIMPLE)\n",
    "    \n",
    "    # If length of contours list is 0, then we didn't grab any contours!\n",
    "    if len(contours) == 0:\n",
    "        return None\n",
    "    else:\n",
    "        #Assumes the largest object in the contour is the hand\n",
    "        hand_segment = max(contours, key=cv2.contourArea)\n",
    "        return (thresh, hand_segment)\n",
    "    "
   ]
  },
  {
   "cell_type": "markdown",
   "metadata": {},
   "source": [
    "<img src='Finger Count 10_19_2020 1_45_32 AM.png' alt='Markdown Finger Icon' style='float:left; margin-right: 10px;'/>"
   ]
  },
  {
   "cell_type": "markdown",
   "metadata": {},
   "source": [
    "<h4>Count Fingers</h4>"
   ]
  },
  {
   "cell_type": "code",
   "execution_count": 9,
   "metadata": {},
   "outputs": [],
   "source": [
    "def count_fingers(thresh, hand):\n",
    "    \n",
    "    #calculated the convex hull of the hand segment\n",
    "    convex = cv2.convexHull(hand)\n",
    "    \n",
    "    #Points of the fingers\n",
    "    top    = tuple(convex[convex[:, :, 1].argmin()][0])\n",
    "    bottom = tuple(convex[convex[:, :, 1].argmax()][0])\n",
    "    left   = tuple(convex[convex[:, :, 0].argmin()][0])\n",
    "    right  = tuple(convex[convex[:, :, 0].argmax()][0])\n",
    "    \n",
    "    # In theory, the center of the hand is half way between the top and bottom and halfway between left and right\n",
    "    # horizontal center of hand\n",
    "    center_x = (left[0]+right[0])//2\n",
    "    #vertical center of hand\n",
    "    center_y = (top[1]+bottom[1])//2\n",
    "\n",
    "    # find the maximum euclidean distance between the center of the palm\n",
    "    # and the most extreme points of the convex hull\n",
    "    \n",
    "    # Calculate the Euclidean Distance between the center of the hand and the left, right, top, and bottom.\n",
    "    distance = pairwise.euclidean_distances([(center_x, center_y)], Y=[left, right, top, bottom])[0]\n",
    "   \n",
    "    # Grab the largest distance\n",
    "    max_distance = distance.max()\n",
    "    \n",
    "    # Create a circle with 90% radius of the max euclidean distance\n",
    "    radius = int(0.8*max_distance)\n",
    "    circumfrence = (2*np.pi*radius)\n",
    "    \n",
    "    # Grab ROI (Region of Interest)\n",
    "    circular = np.zeros(thresh.shape[:2], dtype='uint8')\n",
    "     # draw the circular ROI\n",
    "    cv2.circle(circular,(center_x,center_y), radius, 255,10)\n",
    "    \n",
    "    # Using bit-wise AND with the cirle ROI as a mask.\n",
    "    # This then returns the cut out obtained using the mask on the thresholded hand image.\n",
    "    circular = cv2.bitwise_and(thresh, thresh, mask=circular)\n",
    "    \n",
    "    contours,hiearchy = cv2.findContours(circular.copy(), cv2.RETR_EXTERNAL, cv2.CHAIN_APPROX_NONE)\n",
    "    \n",
    "    # Finger count starts at 0      \n",
    "    finger_count = 0\n",
    "    \n",
    "    # loop through the contours to see if we count any more fingers.\n",
    "    for cnt in contours:\n",
    "        (x,y,w,h) = cv2.boundingRect(cnt)\n",
    "        outside_wrist = ((center_y+(center_y*0.25)) > (y+h))\n",
    "        limit_points = ((circumfrence*0.25) > cnt.shape[0]) \n",
    "        if outside_wrist and limit_points:\n",
    "            finger_count += 1\n",
    "    return finger_count"
   ]
  },
  {
   "cell_type": "markdown",
   "metadata": {},
   "source": [
    "<h4>Run Program</h4>"
   ]
  },
  {
   "cell_type": "code",
   "execution_count": 23,
   "metadata": {},
   "outputs": [],
   "source": [
    "cam = cv2.VideoCapture(0)\n",
    "num_frames = 0\n",
    "\n",
    "while True:\n",
    "    ret, frame = cam.read()\n",
    "    \n",
    "    # flip the frame so that it is not the mirror view\n",
    "    frame = cv2.flip(frame, 1)\n",
    "    if frame is None:\n",
    "        break\n",
    "    #clone frame\n",
    "    frame_copy = frame.copy()\n",
    "    #grab the region of interest\n",
    "    roi = frame[top:bottom,right:left]\n",
    "    \n",
    "    #Apply grayscale and blue the ROI\n",
    "    gray = cv2.cvtColor(roi, cv2.COLOR_BGR2GRAY)\n",
    "    gray = cv2.GaussianBlur(gray, (7, 7), 0)\n",
    "    \n",
    "    # For the first 60 frames we will calculate the average of the background.\n",
    "    # We will tell the user while this is happening\n",
    "    if num_frames < 60:\n",
    "        cumulative_avg(gray, accumulated_weight)\n",
    "        if num_frames <= 59:\n",
    "            cv2.putText(frame_copy, 'WAIT! GETTING BACKGROUND', (200,400), cv2.FONT_HERSHEY_SIMPLEX, 1,(0,0,255),2)\n",
    "            cv2.imshow('Finger Count', frame_copy)\n",
    "    else:\n",
    "        hand = segment(gray)\n",
    "        if hand is not None:\n",
    "            thresh, hand_segment = hand\n",
    "            #Draws contours around real hand in live stream\n",
    "            cv2.drawContours(frame_copy, [hand_segment,right,top],0,(255,0,0), 5)\n",
    "            fingers = count_fingers(thresh, hand_segment)\n",
    "            cv2.putText(frame_copy, str(fingers), (70,50), cv2.FONT_HERSHEY_SIMPLEX,1,(0,0,255),2)\n",
    "            cv2.imshow('Threshold',thresh)\n",
    "    cv2.rectangle(frame_copy,(left,top), (right, bottom), (0,0,255), 5)\n",
    "    num_frames += 1\n",
    "    cv2.imshow('Finger Count', frame_copy)\n",
    "    \n",
    "    # Close windows with Esc\n",
    "    control = cv2.waitKey(1)\n",
    "    if control == 27 or control == 'q':\n",
    "        break\n",
    "cam.release()\n",
    "cv2.destroyAllWindows()\n"
   ]
  },
  {
   "cell_type": "markdown",
   "metadata": {},
   "source": [
    "<img src='Screenshot (55).png' alt='Markdown Finger Icon' style='float:left; margin-right: 10px;'/>\n",
    "<img src='Screenshot (56).png' alt='Markdown Finger Icon' style='float:left; margin-right: 10px;'/>\n",
    "<img src='Screenshot (57).png' alt='Markdown Finger Icon' style='float:left; margin-right: 10px;'/>\n",
    "<img src='Screenshot (58).png' alt='Markdown Finger Icon' style='float:left; margin-right: 10px;'/>\n",
    "<img src='Screenshot (60).png' alt='Markdown Finger Icon' style='float:left; margin-right: 10px;'/>\n",
    "<img src='Screenshot (61).png' alt='Markdown Finger Icon' style='float:left; margin-right: 10px;'/>"
   ]
  },
  {
   "cell_type": "code",
   "execution_count": null,
   "metadata": {},
   "outputs": [],
   "source": []
  }
 ],
 "metadata": {
  "kernelspec": {
   "display_name": "Python 3",
   "language": "python",
   "name": "python3"
  },
  "language_info": {
   "codemirror_mode": {
    "name": "ipython",
    "version": 3
   },
   "file_extension": ".py",
   "mimetype": "text/x-python",
   "name": "python",
   "nbconvert_exporter": "python",
   "pygments_lexer": "ipython3",
   "version": "3.8.5"
  }
 },
 "nbformat": 4,
 "nbformat_minor": 4
}
